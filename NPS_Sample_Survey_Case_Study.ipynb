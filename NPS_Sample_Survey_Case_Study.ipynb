{
  "nbformat": 4,
  "nbformat_minor": 0,
  "metadata": {
    "colab": {
      "provenance": []
    },
    "kernelspec": {
      "name": "python3",
      "display_name": "Python 3"
    },
    "language_info": {
      "name": "python"
    }
  },
  "cells": [
    {
      "cell_type": "code",
      "execution_count": 21,
      "metadata": {
        "colab": {
          "base_uri": "https://localhost:8080/"
        },
        "id": "Lfl5zMXsJZOi",
        "outputId": "946e22b3-6886-4276-e91c-608a9269b9c0"
      },
      "outputs": [
        {
          "output_type": "stream",
          "name": "stdout",
          "text": [
            "Requirement already satisfied: gdown in /usr/local/lib/python3.10/dist-packages (5.2.0)\n",
            "Requirement already satisfied: beautifulsoup4 in /usr/local/lib/python3.10/dist-packages (from gdown) (4.12.3)\n",
            "Requirement already satisfied: filelock in /usr/local/lib/python3.10/dist-packages (from gdown) (3.16.1)\n",
            "Requirement already satisfied: requests[socks] in /usr/local/lib/python3.10/dist-packages (from gdown) (2.32.3)\n",
            "Requirement already satisfied: tqdm in /usr/local/lib/python3.10/dist-packages (from gdown) (4.67.1)\n",
            "Requirement already satisfied: soupsieve>1.2 in /usr/local/lib/python3.10/dist-packages (from beautifulsoup4->gdown) (2.6)\n",
            "Requirement already satisfied: charset-normalizer<4,>=2 in /usr/local/lib/python3.10/dist-packages (from requests[socks]->gdown) (3.4.0)\n",
            "Requirement already satisfied: idna<4,>=2.5 in /usr/local/lib/python3.10/dist-packages (from requests[socks]->gdown) (3.10)\n",
            "Requirement already satisfied: urllib3<3,>=1.21.1 in /usr/local/lib/python3.10/dist-packages (from requests[socks]->gdown) (2.2.3)\n",
            "Requirement already satisfied: certifi>=2017.4.17 in /usr/local/lib/python3.10/dist-packages (from requests[socks]->gdown) (2024.12.14)\n",
            "Requirement already satisfied: PySocks!=1.5.7,>=1.5.6 in /usr/local/lib/python3.10/dist-packages (from requests[socks]->gdown) (1.7.1)\n",
            "Downloading...\n",
            "From: https://drive.google.com/uc?id=1c0ClC8SrPwJq5rrkyMKyPn80nyHcFikK\n",
            "To: /content/survey.txt\n",
            "100% 2.55k/2.55k [00:00<00:00, 9.95MB/s]\n"
          ]
        }
      ],
      "source": [
        "# Case Study : Net Promoter Score of Airbnb\n",
        "\n",
        "# Downloading Net Promoter Score Sample Survey data of Airbnb from survey.txt file\n",
        "\n",
        "!pip install gdown\n",
        "!gdown 1c0ClC8SrPwJq5rrkyMKyPn80nyHcFikK"
      ]
    },
    {
      "cell_type": "code",
      "source": [
        "import numpy as np # importing numpy library and assigning it as np\n",
        "\n",
        "scores = np.loadtxt('survey.txt', dtype ='int') # loading all Net Promoter Score Survey data and converting from txt format to numpy array and assigning the array into scores variable\n",
        "print(scores) # printing the scores variable to display the array\n",
        "print(type(scores)) # type of scores variable will be numpy array\n",
        "print(scores.ndim) # dimension of the array\n",
        "print(scores.shape) # as in array in scores var is 1D so in shape we will have length only bcz 1D array will always have horizontal 1 row and no. of elements will be no. of columns"
      ],
      "metadata": {
        "colab": {
          "base_uri": "https://localhost:8080/"
        },
        "id": "lhXqnQCgJtM5",
        "outputId": "4bada693-9f24-4e16-e97a-66e87c1a9869"
      },
      "execution_count": 4,
      "outputs": [
        {
          "output_type": "stream",
          "name": "stdout",
          "text": [
            "[ 7 10  5 ...  5  9 10]\n",
            "<class 'numpy.ndarray'>\n",
            "1\n",
            "(1167,)\n"
          ]
        }
      ]
    },
    {
      "cell_type": "code",
      "source": [
        "total_count_of_scores = scores.shape[0] # as in 1D array will always have horizontal 1 row so scores.shape[0] which means 1st element of scores.shape that is length or no. of columns. So retrieved the length or total no. of colms in scores array & assigned it into var total_count_of_scores.\n",
        "print(total_count_of_scores)"
      ],
      "metadata": {
        "colab": {
          "base_uri": "https://localhost:8080/"
        },
        "id": "CJHr5fvOJtP1",
        "outputId": "ba7cecaa-7d86-4358-f7b6-c6e412d3d138"
      },
      "execution_count": 5,
      "outputs": [
        {
          "output_type": "stream",
          "name": "stdout",
          "text": [
            "1167\n"
          ]
        }
      ]
    },
    {
      "cell_type": "code",
      "source": [
        "promoters = scores[scores>=9] # As in promoters are those who rated 9 or above so masked those elements from array stor3ed in var promoters\n",
        "promoters_count = promoters.shape[0] # as in 1D array will always have horizontal 1 row so promoters.shape[0] which means 1st element of promoters.shape that is length or no. of columns. So retrieved the length or total no. of colms in promoters array & assigned it into var promoters_count.\n",
        "print(promoters_count)"
      ],
      "metadata": {
        "id": "NM5OQiSOJtUn"
      },
      "execution_count": 11,
      "outputs": []
    },
    {
      "cell_type": "code",
      "source": [
        "detractors = scores[scores<=6] # As in detractors are those who rated between 0 to 6 so masked those elements from array stored in var detractors\n",
        "detractors_count = detractors.shape[0] # as in 1D array will always have horizontal 1 row so detractors.shape[0] which means 1st element of detractors.shape that is length or no. of columns. So retrieved the length or total no. of colms in detractors array & assigned it into var detractors_count\n",
        "print(detractors_count)"
      ],
      "metadata": {
        "colab": {
          "base_uri": "https://localhost:8080/"
        },
        "id": "ExitGIusJtX4",
        "outputId": "4b0874a8-d238-4c0c-c2ca-5b2af2d97ee6"
      },
      "execution_count": 12,
      "outputs": [
        {
          "output_type": "stream",
          "name": "stdout",
          "text": [
            "332\n"
          ]
        }
      ]
    },
    {
      "cell_type": "code",
      "source": [
        "percentage_promoters = (promoters_count / total_count_of_scores) *100 # percentage of promoters scores\n",
        "print(round(percentage_promoters,2))"
      ],
      "metadata": {
        "colab": {
          "base_uri": "https://localhost:8080/"
        },
        "id": "cpn00dgjJtat",
        "outputId": "08f52b4f-34f7-4def-d98f-c82d002aab23"
      },
      "execution_count": 14,
      "outputs": [
        {
          "output_type": "stream",
          "name": "stdout",
          "text": [
            "52.19\n"
          ]
        }
      ]
    },
    {
      "cell_type": "code",
      "source": [
        "percentage_detractors = (detractors_count / total_count_of_scores) *100 # percentage of detractors scores\n",
        "print(round(percentage_detractors,2))"
      ],
      "metadata": {
        "colab": {
          "base_uri": "https://localhost:8080/"
        },
        "id": "-0zK4m1HJtf6",
        "outputId": "6a911640-d0f5-4fb6-d082-4945ef2ed379"
      },
      "execution_count": 15,
      "outputs": [
        {
          "output_type": "stream",
          "name": "stdout",
          "text": [
            "28.45\n"
          ]
        }
      ]
    },
    {
      "cell_type": "code",
      "source": [
        "Net_promoter_score = (percentage_promoters - percentage_detractors)  # Net Promoter Score\n",
        "print(round(Net_promoter_score,2))"
      ],
      "metadata": {
        "colab": {
          "base_uri": "https://localhost:8080/"
        },
        "id": "q3Vvye8NJtl9",
        "outputId": "360369d3-ce93-4a8d-9720-ae736dbc9e12"
      },
      "execution_count": 20,
      "outputs": [
        {
          "output_type": "stream",
          "name": "stdout",
          "text": [
            "23.74\n"
          ]
        }
      ]
    }
  ]
}